{
 "cells": [
  {
   "cell_type": "markdown",
   "metadata": {},
   "source": [
    "# Functional programming in python\n",
    "    deffunctionalName(parameters)\n",
    "     Task for desired input\n",
    " ## Don't:-\n",
    "       \n",
    "       \n",
    "       functions can be used to perform the specific task in the programming \n",
    "       Function in python start with def(keyword)\n",
    "  ## syntax\n",
    "        "
   ]
  },
  {
   "cell_type": "markdown",
   "metadata": {},
   "source": [
    "# Example 1\n",
    "## functional programming to print the Natural numbers "
   ]
  },
  {
   "cell_type": "code",
   "execution_count": 5,
   "metadata": {},
   "outputs": [
    {
     "name": "stdout",
     "output_type": "stream",
     "text": [
      "1 2 3 4 5 6 7 8 9 \n",
      "1 2 3 4 5 6 7 8 9 10 11 12 13 14 15 \n"
     ]
    }
   ],
   "source": [
    "def printNNaturalNumbers(n):\n",
    "    cnt=1\n",
    "    while(cnt<=n):\n",
    "        print(cnt,end=\" \")\n",
    "        cnt=cnt+1\n",
    "    print()\n",
    "    return\n",
    "\n",
    "printNNaturalNumbers(9)\n",
    "printNNaturalNumbers(15)"
   ]
  },
  {
   "cell_type": "markdown",
   "metadata": {},
   "source": [
    "# Example 2\n",
    "## Find the factioral of a given number"
   ]
  },
  {
   "cell_type": "code",
   "execution_count": 6,
   "metadata": {},
   "outputs": [
    {
     "name": "stdout",
     "output_type": "stream",
     "text": [
      "120\n",
      "3628800\n",
      "2432902008176640000\n"
     ]
    }
   ],
   "source": [
    "def findFact(n):\n",
    "    fact=1\n",
    "    while(n!=0):\n",
    "        fact=fact*n\n",
    "        n=n-1\n",
    "    return fact\n",
    "print(findFact(5))\n",
    "print(findFact(10))\n",
    "print(findFact(20))"
   ]
  },
  {
   "cell_type": "markdown",
   "metadata": {},
   "source": [
    "# Examlpe 3\n",
    "##"
   ]
  },
  {
   "cell_type": "code",
   "execution_count": 12,
   "metadata": {},
   "outputs": [
    {
     "name": "stdout",
     "output_type": "stream",
     "text": [
      "2\n",
      "10998\n"
     ]
    }
   ],
   "source": [
    "def countofpalindromes(n1,n2):\n",
    "    cnt=0\n",
    "    while n1!=n2:\n",
    "        sum=0\n",
    "        buffer=n1\n",
    "        while n1!=0:\n",
    "            r=n1%10\n",
    "            sum=(sum*10)+r\n",
    "            n1=n1//10\n",
    "        if buffer ==sum:\n",
    "            cnt=cnt+1\n",
    "        n1=buffer\n",
    "        \n",
    "        n1=n1+1\n",
    "    \n",
    "    \n",
    "    \n",
    "    return cnt\n",
    " \n",
    "print(countofpalindromes(10,30))\n",
    "print(countofpalindromes(1,10000000))\n",
    "    "
   ]
  },
  {
   "cell_type": "code",
   "execution_count": null,
   "metadata": {},
   "outputs": [],
   "source": []
  }
 ],
 "metadata": {
  "kernelspec": {
   "display_name": "Python 3",
   "language": "python",
   "name": "python3"
  },
  "language_info": {
   "codemirror_mode": {
    "name": "ipython",
    "version": 3
   },
   "file_extension": ".py",
   "mimetype": "text/x-python",
   "name": "python",
   "nbconvert_exporter": "python",
   "pygments_lexer": "ipython3",
   "version": "3.7.3"
  }
 },
 "nbformat": 4,
 "nbformat_minor": 2
}
